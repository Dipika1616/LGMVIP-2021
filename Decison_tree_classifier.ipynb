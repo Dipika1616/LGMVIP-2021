{
  "nbformat": 4,
  "nbformat_minor": 0,
  "metadata": {
    "colab": {
      "name": "Decison tree classifier.ipynb",
      "provenance": [],
      "collapsed_sections": [],
      "toc_visible": true,
      "authorship_tag": "ABX9TyOXngB1/XjYEx3Pi7ELMIp+",
      "include_colab_link": true
    },
    "kernelspec": {
      "name": "python3",
      "display_name": "Python 3"
    },
    "language_info": {
      "name": "python"
    }
  },
  "cells": [
    {
      "cell_type": "markdown",
      "metadata": {
        "id": "view-in-github",
        "colab_type": "text"
      },
      "source": [
        "<a href=\"https://colab.research.google.com/github/Dipika1616/LGMVIP-2021/blob/main/Decison_tree_classifier.ipynb\" target=\"_parent\"><img src=\"https://colab.research.google.com/assets/colab-badge.svg\" alt=\"Open In Colab\"/></a>"
      ]
    },
    {
      "cell_type": "markdown",
      "metadata": {
        "id": "dwC7W_TJVeMB"
      },
      "source": [
        "#Decision Tree classifier (using iris data set)\n",
        "\n",
        "**Author:Dipika Patro**\n",
        "\n",
        "task 3\n",
        "\n",
        "level:Intermediate"
      ]
    },
    {
      "cell_type": "code",
      "metadata": {
        "id": "-5xa4YYrVTIP"
      },
      "source": [
        "#importing the required libraries\n",
        "import pandas as pd\n",
        "import numpy as np\n",
        "from sklearn.datasets import  load_iris"
      ],
      "execution_count": null,
      "outputs": []
    },
    {
      "cell_type": "code",
      "metadata": {
        "id": "lJhVL3YsYiOq"
      },
      "source": [
        "#loading the dataset\n",
        "data = load_iris()"
      ],
      "execution_count": null,
      "outputs": []
    },
    {
      "cell_type": "code",
      "metadata": {
        "colab": {
          "base_uri": "https://localhost:8080/"
        },
        "id": "Zxy8czhRYplD",
        "outputId": "6e858494-f93c-4e80-aee5-c856dae61fff"
      },
      "source": [
        "data.data.shape"
      ],
      "execution_count": null,
      "outputs": [
        {
          "output_type": "execute_result",
          "data": {
            "text/plain": [
              "(150, 4)"
            ]
          },
          "metadata": {},
          "execution_count": 59
        }
      ]
    },
    {
      "cell_type": "code",
      "metadata": {
        "colab": {
          "base_uri": "https://localhost:8080/"
        },
        "id": "EsBcMOzhZ7T0",
        "outputId": "db080617-8e25-47c4-927f-ee1dbbc16801"
      },
      "source": [
        "print('Class to predict',data.target_names)"
      ],
      "execution_count": null,
      "outputs": [
        {
          "output_type": "stream",
          "name": "stdout",
          "text": [
            "Class to predict ['setosa' 'versicolor' 'virginica']\n"
          ]
        }
      ]
    },
    {
      "cell_type": "code",
      "metadata": {
        "colab": {
          "base_uri": "https://localhost:8080/"
        },
        "id": "r0L1J9jKaXcK",
        "outputId": "bed33fbb-8397-45d6-cef6-c49197537668"
      },
      "source": [
        "print('Features',data.feature_names)"
      ],
      "execution_count": null,
      "outputs": [
        {
          "output_type": "stream",
          "name": "stdout",
          "text": [
            "Features ['sepal length (cm)', 'sepal width (cm)', 'petal length (cm)', 'petal width (cm)']\n"
          ]
        }
      ]
    },
    {
      "cell_type": "code",
      "metadata": {
        "id": "cFqMI9J3ao-2"
      },
      "source": [
        "x=data.data\n",
        "y=data.target"
      ],
      "execution_count": null,
      "outputs": []
    },
    {
      "cell_type": "code",
      "metadata": {
        "colab": {
          "base_uri": "https://localhost:8080/",
          "height": 52
        },
        "id": "AeDGHKyIa0rz",
        "outputId": "5da08228-bf71-45e7-cc9f-77aed4f6bc60"
      },
      "source": [
        "display(x.shape,y.shape)"
      ],
      "execution_count": null,
      "outputs": [
        {
          "output_type": "display_data",
          "data": {
            "text/plain": [
              "(150, 4)"
            ]
          },
          "metadata": {}
        },
        {
          "output_type": "display_data",
          "data": {
            "text/plain": [
              "(150,)"
            ]
          },
          "metadata": {}
        }
      ]
    },
    {
      "cell_type": "code",
      "metadata": {
        "id": "HDfkJrLYhuSq"
      },
      "source": [
        "#for the decision tree required library\n",
        "from sklearn.tree import export_graphviz\n",
        "from sklearn.externals.six import StringIO\n",
        "from IPython.display import Image\n",
        "import pydotplus\n",
        "from sklearn.tree import DecisionTreeClassifier\n",
        "from sklearn.metrics import accuracy_score\n",
        "from sklearn import tree\n",
        "import matplotlib.pyplot as plt\n"
      ],
      "execution_count": null,
      "outputs": []
    },
    {
      "cell_type": "code",
      "metadata": {
        "colab": {
          "base_uri": "https://localhost:8080/"
        },
        "id": "szfPloWmkPEb",
        "outputId": "4c5dc586-5e35-4df5-fd69-2f312ac31aae"
      },
      "source": [
        "clf= DecisionTreeClassifier()\n",
        "clf.fit(x_train,y_train)"
      ],
      "execution_count": null,
      "outputs": [
        {
          "output_type": "execute_result",
          "data": {
            "text/plain": [
              "DecisionTreeClassifier(ccp_alpha=0.0, class_weight=None, criterion='gini',\n",
              "                       max_depth=None, max_features=None, max_leaf_nodes=None,\n",
              "                       min_impurity_decrease=0.0, min_impurity_split=None,\n",
              "                       min_samples_leaf=1, min_samples_split=2,\n",
              "                       min_weight_fraction_leaf=0.0, presort='deprecated',\n",
              "                       random_state=None, splitter='best')"
            ]
          },
          "metadata": {},
          "execution_count": 65
        }
      ]
    },
    {
      "cell_type": "code",
      "metadata": {
        "id": "RoueJkMtlfze"
      },
      "source": [
        "#prediction\n",
        "y_pred = clf.predict(x_test)"
      ],
      "execution_count": null,
      "outputs": []
    },
    {
      "cell_type": "code",
      "metadata": {
        "colab": {
          "base_uri": "https://localhost:8080/"
        },
        "id": "1mu0NCn4rW6l",
        "outputId": "bcc65e73-86a9-4005-c73a-25957190ab91"
      },
      "source": [
        "#accuracy check\n",
        "accuracy_score(y_test,y_pred)"
      ],
      "execution_count": null,
      "outputs": [
        {
          "output_type": "execute_result",
          "data": {
            "text/plain": [
              "0.9473684210526315"
            ]
          },
          "metadata": {},
          "execution_count": 67
        }
      ]
    },
    {
      "cell_type": "markdown",
      "metadata": {
        "id": "Qzu7JdRo3SfQ"
      },
      "source": [
        "#Visualization of the decision tree"
      ]
    },
    {
      "cell_type": "code",
      "metadata": {
        "colab": {
          "base_uri": "https://localhost:8080/",
          "height": 285
        },
        "id": "plR67XCwiiuw",
        "outputId": "f8f3ebae-f699-4944-fec8-d834859e4124"
      },
      "source": [
        "ax= plt.subplots(figsize=(10,10))\n",
        "tree.plot_tree(clf,fontsize=10)\n",
        "plt.show()"
      ],
      "execution_count": null,
      "outputs": [
        {
          "output_type": "error",
          "ename": "NameError",
          "evalue": "ignored",
          "traceback": [
            "\u001b[0;31m---------------------------------------------------------------------------\u001b[0m",
            "\u001b[0;31mNameError\u001b[0m                                 Traceback (most recent call last)",
            "\u001b[0;32m<ipython-input-1-07e754351228>\u001b[0m in \u001b[0;36m<module>\u001b[0;34m()\u001b[0m\n\u001b[0;32m----> 1\u001b[0;31m \u001b[0max\u001b[0m\u001b[0;34m=\u001b[0m \u001b[0mplt\u001b[0m\u001b[0;34m.\u001b[0m\u001b[0msubplots\u001b[0m\u001b[0;34m(\u001b[0m\u001b[0mfigsize\u001b[0m\u001b[0;34m=\u001b[0m\u001b[0;34m(\u001b[0m\u001b[0;36m10\u001b[0m\u001b[0;34m,\u001b[0m\u001b[0;36m10\u001b[0m\u001b[0;34m)\u001b[0m\u001b[0;34m)\u001b[0m\u001b[0;34m\u001b[0m\u001b[0;34m\u001b[0m\u001b[0m\n\u001b[0m\u001b[1;32m      2\u001b[0m \u001b[0mtree\u001b[0m\u001b[0;34m.\u001b[0m\u001b[0mplot_tree\u001b[0m\u001b[0;34m(\u001b[0m\u001b[0mclf\u001b[0m\u001b[0;34m,\u001b[0m\u001b[0mfontsize\u001b[0m\u001b[0;34m=\u001b[0m\u001b[0;36m10\u001b[0m\u001b[0;34m)\u001b[0m\u001b[0;34m\u001b[0m\u001b[0;34m\u001b[0m\u001b[0m\n\u001b[1;32m      3\u001b[0m \u001b[0mplt\u001b[0m\u001b[0;34m.\u001b[0m\u001b[0mshow\u001b[0m\u001b[0;34m(\u001b[0m\u001b[0;34m)\u001b[0m\u001b[0;34m\u001b[0m\u001b[0;34m\u001b[0m\u001b[0m\n",
            "\u001b[0;31mNameError\u001b[0m: name 'plt' is not defined"
          ]
        }
      ]
    },
    {
      "cell_type": "markdown",
      "metadata": {
        "id": "pWCzKW7Q3cCQ"
      },
      "source": [
        "#visualization using graphviz"
      ]
    },
    {
      "cell_type": "code",
      "metadata": {
        "colab": {
          "base_uri": "https://localhost:8080/",
          "height": 757
        },
        "id": "hwXC99Ur1njx",
        "outputId": "ea2436dc-f4bd-4d71-d8f7-4539e058d7b6"
      },
      "source": [
        "import graphviz\n",
        "# DOT data\n",
        "dot_data = tree.export_graphviz(clf, out_file=None, \n",
        "                                feature_names=data.feature_names,  \n",
        "                                class_names=data.target_names,\n",
        "                                filled=True)\n",
        "\n",
        "# Draw graph\n",
        "graph = graphviz.Source(dot_data, format=\"png\") \n",
        "graph"
      ],
      "execution_count": null,
      "outputs": [
        {
          "output_type": "execute_result",
          "data": {
            "text/plain": [
              "<graphviz.files.Source at 0x7efe082bd650>"
            ],
            "image/svg+xml": "<?xml version=\"1.0\" encoding=\"UTF-8\" standalone=\"no\"?>\n<!DOCTYPE svg PUBLIC \"-//W3C//DTD SVG 1.1//EN\"\n \"http://www.w3.org/Graphics/SVG/1.1/DTD/svg11.dtd\">\n<!-- Generated by graphviz version 2.40.1 (20161225.0304)\n -->\n<!-- Title: Tree Pages: 1 -->\n<svg width=\"616pt\" height=\"552pt\"\n viewBox=\"0.00 0.00 616.00 552.00\" xmlns=\"http://www.w3.org/2000/svg\" xmlns:xlink=\"http://www.w3.org/1999/xlink\">\n<g id=\"graph0\" class=\"graph\" transform=\"scale(1 1) rotate(0) translate(4 548)\">\n<title>Tree</title>\n<polygon fill=\"#ffffff\" stroke=\"transparent\" points=\"-4,4 -4,-548 612,-548 612,4 -4,4\"/>\n<!-- 0 -->\n<g id=\"node1\" class=\"node\">\n<title>0</title>\n<polygon fill=\"#fffdfc\" stroke=\"#000000\" points=\"305.5,-544 149.5,-544 149.5,-461 305.5,-461 305.5,-544\"/>\n<text text-anchor=\"middle\" x=\"227.5\" y=\"-528.8\" font-family=\"Times,serif\" font-size=\"14.00\" fill=\"#000000\">petal length (cm) &lt;= 2.6</text>\n<text text-anchor=\"middle\" x=\"227.5\" y=\"-513.8\" font-family=\"Times,serif\" font-size=\"14.00\" fill=\"#000000\">gini = 0.666</text>\n<text text-anchor=\"middle\" x=\"227.5\" y=\"-498.8\" font-family=\"Times,serif\" font-size=\"14.00\" fill=\"#000000\">samples = 112</text>\n<text text-anchor=\"middle\" x=\"227.5\" y=\"-483.8\" font-family=\"Times,serif\" font-size=\"14.00\" fill=\"#000000\">value = [39, 35, 38]</text>\n<text text-anchor=\"middle\" x=\"227.5\" y=\"-468.8\" font-family=\"Times,serif\" font-size=\"14.00\" fill=\"#000000\">class = setosa</text>\n</g>\n<!-- 1 -->\n<g id=\"node2\" class=\"node\">\n<title>1</title>\n<polygon fill=\"#e58139\" stroke=\"#000000\" points=\"208,-417.5 91,-417.5 91,-349.5 208,-349.5 208,-417.5\"/>\n<text text-anchor=\"middle\" x=\"149.5\" y=\"-402.3\" font-family=\"Times,serif\" font-size=\"14.00\" fill=\"#000000\">gini = 0.0</text>\n<text text-anchor=\"middle\" x=\"149.5\" y=\"-387.3\" font-family=\"Times,serif\" font-size=\"14.00\" fill=\"#000000\">samples = 39</text>\n<text text-anchor=\"middle\" x=\"149.5\" y=\"-372.3\" font-family=\"Times,serif\" font-size=\"14.00\" fill=\"#000000\">value = [39, 0, 0]</text>\n<text text-anchor=\"middle\" x=\"149.5\" y=\"-357.3\" font-family=\"Times,serif\" font-size=\"14.00\" fill=\"#000000\">class = setosa</text>\n</g>\n<!-- 0&#45;&gt;1 -->\n<g id=\"edge1\" class=\"edge\">\n<title>0&#45;&gt;1</title>\n<path fill=\"none\" stroke=\"#000000\" d=\"M200.2194,-460.8796C192.8677,-449.6636 184.9036,-437.5131 177.5126,-426.2372\"/>\n<polygon fill=\"#000000\" stroke=\"#000000\" points=\"180.4014,-424.2598 171.9921,-417.8149 174.5469,-428.0972 180.4014,-424.2598\"/>\n<text text-anchor=\"middle\" x=\"166.8982\" y=\"-438.5905\" font-family=\"Times,serif\" font-size=\"14.00\" fill=\"#000000\">True</text>\n</g>\n<!-- 2 -->\n<g id=\"node3\" class=\"node\">\n<title>2</title>\n<polygon fill=\"#f5effd\" stroke=\"#000000\" points=\"387,-425 226,-425 226,-342 387,-342 387,-425\"/>\n<text text-anchor=\"middle\" x=\"306.5\" y=\"-409.8\" font-family=\"Times,serif\" font-size=\"14.00\" fill=\"#000000\">petal width (cm) &lt;= 1.65</text>\n<text text-anchor=\"middle\" x=\"306.5\" y=\"-394.8\" font-family=\"Times,serif\" font-size=\"14.00\" fill=\"#000000\">gini = 0.499</text>\n<text text-anchor=\"middle\" x=\"306.5\" y=\"-379.8\" font-family=\"Times,serif\" font-size=\"14.00\" fill=\"#000000\">samples = 73</text>\n<text text-anchor=\"middle\" x=\"306.5\" y=\"-364.8\" font-family=\"Times,serif\" font-size=\"14.00\" fill=\"#000000\">value = [0, 35, 38]</text>\n<text text-anchor=\"middle\" x=\"306.5\" y=\"-349.8\" font-family=\"Times,serif\" font-size=\"14.00\" fill=\"#000000\">class = virginica</text>\n</g>\n<!-- 0&#45;&gt;2 -->\n<g id=\"edge2\" class=\"edge\">\n<title>0&#45;&gt;2</title>\n<path fill=\"none\" stroke=\"#000000\" d=\"M255.1304,-460.8796C260.93,-452.1434 267.1059,-442.8404 273.0908,-433.8253\"/>\n<polygon fill=\"#000000\" stroke=\"#000000\" points=\"276.1368,-435.5652 278.7517,-425.2981 270.3049,-431.6935 276.1368,-435.5652\"/>\n<text text-anchor=\"middle\" x=\"283.7022\" y=\"-446.103\" font-family=\"Times,serif\" font-size=\"14.00\" fill=\"#000000\">False</text>\n</g>\n<!-- 3 -->\n<g id=\"node4\" class=\"node\">\n<title>3</title>\n<polygon fill=\"#4ae78c\" stroke=\"#000000\" points=\"295.5,-306 139.5,-306 139.5,-223 295.5,-223 295.5,-306\"/>\n<text text-anchor=\"middle\" x=\"217.5\" y=\"-290.8\" font-family=\"Times,serif\" font-size=\"14.00\" fill=\"#000000\">petal length (cm) &lt;= 5.0</text>\n<text text-anchor=\"middle\" x=\"217.5\" y=\"-275.8\" font-family=\"Times,serif\" font-size=\"14.00\" fill=\"#000000\">gini = 0.149</text>\n<text text-anchor=\"middle\" x=\"217.5\" y=\"-260.8\" font-family=\"Times,serif\" font-size=\"14.00\" fill=\"#000000\">samples = 37</text>\n<text text-anchor=\"middle\" x=\"217.5\" y=\"-245.8\" font-family=\"Times,serif\" font-size=\"14.00\" fill=\"#000000\">value = [0, 34, 3]</text>\n<text text-anchor=\"middle\" x=\"217.5\" y=\"-230.8\" font-family=\"Times,serif\" font-size=\"14.00\" fill=\"#000000\">class = versicolor</text>\n</g>\n<!-- 2&#45;&gt;3 -->\n<g id=\"edge3\" class=\"edge\">\n<title>2&#45;&gt;3</title>\n<path fill=\"none\" stroke=\"#000000\" d=\"M275.3721,-341.8796C268.771,-333.0534 261.7371,-323.6485 254.9298,-314.5466\"/>\n<polygon fill=\"#000000\" stroke=\"#000000\" points=\"257.5528,-312.2099 248.7607,-306.2981 251.9472,-316.4024 257.5528,-312.2099\"/>\n</g>\n<!-- 8 -->\n<g id=\"node9\" class=\"node\">\n<title>8</title>\n<polygon fill=\"#853fe6\" stroke=\"#000000\" points=\"477.5,-306 313.5,-306 313.5,-223 477.5,-223 477.5,-306\"/>\n<text text-anchor=\"middle\" x=\"395.5\" y=\"-290.8\" font-family=\"Times,serif\" font-size=\"14.00\" fill=\"#000000\">petal length (cm) &lt;= 4.85</text>\n<text text-anchor=\"middle\" x=\"395.5\" y=\"-275.8\" font-family=\"Times,serif\" font-size=\"14.00\" fill=\"#000000\">gini = 0.054</text>\n<text text-anchor=\"middle\" x=\"395.5\" y=\"-260.8\" font-family=\"Times,serif\" font-size=\"14.00\" fill=\"#000000\">samples = 36</text>\n<text text-anchor=\"middle\" x=\"395.5\" y=\"-245.8\" font-family=\"Times,serif\" font-size=\"14.00\" fill=\"#000000\">value = [0, 1, 35]</text>\n<text text-anchor=\"middle\" x=\"395.5\" y=\"-230.8\" font-family=\"Times,serif\" font-size=\"14.00\" fill=\"#000000\">class = virginica</text>\n</g>\n<!-- 2&#45;&gt;8 -->\n<g id=\"edge8\" class=\"edge\">\n<title>2&#45;&gt;8</title>\n<path fill=\"none\" stroke=\"#000000\" d=\"M337.6279,-341.8796C344.229,-333.0534 351.2629,-323.6485 358.0702,-314.5466\"/>\n<polygon fill=\"#000000\" stroke=\"#000000\" points=\"361.0528,-316.4024 364.2393,-306.2981 355.4472,-312.2099 361.0528,-316.4024\"/>\n</g>\n<!-- 4 -->\n<g id=\"node5\" class=\"node\">\n<title>4</title>\n<polygon fill=\"#39e581\" stroke=\"#000000\" points=\"117,-179.5 0,-179.5 0,-111.5 117,-111.5 117,-179.5\"/>\n<text text-anchor=\"middle\" x=\"58.5\" y=\"-164.3\" font-family=\"Times,serif\" font-size=\"14.00\" fill=\"#000000\">gini = 0.0</text>\n<text text-anchor=\"middle\" x=\"58.5\" y=\"-149.3\" font-family=\"Times,serif\" font-size=\"14.00\" fill=\"#000000\">samples = 33</text>\n<text text-anchor=\"middle\" x=\"58.5\" y=\"-134.3\" font-family=\"Times,serif\" font-size=\"14.00\" fill=\"#000000\">value = [0, 33, 0]</text>\n<text text-anchor=\"middle\" x=\"58.5\" y=\"-119.3\" font-family=\"Times,serif\" font-size=\"14.00\" fill=\"#000000\">class = versicolor</text>\n</g>\n<!-- 3&#45;&gt;4 -->\n<g id=\"edge4\" class=\"edge\">\n<title>3&#45;&gt;4</title>\n<path fill=\"none\" stroke=\"#000000\" d=\"M161.8895,-222.8796C145.7987,-210.8368 128.2685,-197.7167 112.2909,-185.7586\"/>\n<polygon fill=\"#000000\" stroke=\"#000000\" points=\"114.1962,-182.8129 104.093,-179.623 110.0018,-188.4171 114.1962,-182.8129\"/>\n</g>\n<!-- 5 -->\n<g id=\"node6\" class=\"node\">\n<title>5</title>\n<polygon fill=\"#ab7bee\" stroke=\"#000000\" points=\"300,-187 135,-187 135,-104 300,-104 300,-187\"/>\n<text text-anchor=\"middle\" x=\"217.5\" y=\"-171.8\" font-family=\"Times,serif\" font-size=\"14.00\" fill=\"#000000\">sepal length (cm) &lt;= 6.05</text>\n<text text-anchor=\"middle\" x=\"217.5\" y=\"-156.8\" font-family=\"Times,serif\" font-size=\"14.00\" fill=\"#000000\">gini = 0.375</text>\n<text text-anchor=\"middle\" x=\"217.5\" y=\"-141.8\" font-family=\"Times,serif\" font-size=\"14.00\" fill=\"#000000\">samples = 4</text>\n<text text-anchor=\"middle\" x=\"217.5\" y=\"-126.8\" font-family=\"Times,serif\" font-size=\"14.00\" fill=\"#000000\">value = [0, 1, 3]</text>\n<text text-anchor=\"middle\" x=\"217.5\" y=\"-111.8\" font-family=\"Times,serif\" font-size=\"14.00\" fill=\"#000000\">class = virginica</text>\n</g>\n<!-- 3&#45;&gt;5 -->\n<g id=\"edge5\" class=\"edge\">\n<title>3&#45;&gt;5</title>\n<path fill=\"none\" stroke=\"#000000\" d=\"M217.5,-222.8796C217.5,-214.6838 217.5,-205.9891 217.5,-197.5013\"/>\n<polygon fill=\"#000000\" stroke=\"#000000\" points=\"221.0001,-197.298 217.5,-187.2981 214.0001,-197.2981 221.0001,-197.298\"/>\n</g>\n<!-- 6 -->\n<g id=\"node7\" class=\"node\">\n<title>6</title>\n<polygon fill=\"#39e581\" stroke=\"#000000\" points=\"156,-68 41,-68 41,0 156,0 156,-68\"/>\n<text text-anchor=\"middle\" x=\"98.5\" y=\"-52.8\" font-family=\"Times,serif\" font-size=\"14.00\" fill=\"#000000\">gini = 0.0</text>\n<text text-anchor=\"middle\" x=\"98.5\" y=\"-37.8\" font-family=\"Times,serif\" font-size=\"14.00\" fill=\"#000000\">samples = 1</text>\n<text text-anchor=\"middle\" x=\"98.5\" y=\"-22.8\" font-family=\"Times,serif\" font-size=\"14.00\" fill=\"#000000\">value = [0, 1, 0]</text>\n<text text-anchor=\"middle\" x=\"98.5\" y=\"-7.8\" font-family=\"Times,serif\" font-size=\"14.00\" fill=\"#000000\">class = versicolor</text>\n</g>\n<!-- 5&#45;&gt;6 -->\n<g id=\"edge6\" class=\"edge\">\n<title>5&#45;&gt;6</title>\n<path fill=\"none\" stroke=\"#000000\" d=\"M173.1888,-103.9815C163.1837,-94.607 152.5646,-84.6572 142.5696,-75.2921\"/>\n<polygon fill=\"#000000\" stroke=\"#000000\" points=\"144.7588,-72.547 135.0684,-68.2637 139.9726,-77.6551 144.7588,-72.547\"/>\n</g>\n<!-- 7 -->\n<g id=\"node8\" class=\"node\">\n<title>7</title>\n<polygon fill=\"#8139e5\" stroke=\"#000000\" points=\"284.5,-68 174.5,-68 174.5,0 284.5,0 284.5,-68\"/>\n<text text-anchor=\"middle\" x=\"229.5\" y=\"-52.8\" font-family=\"Times,serif\" font-size=\"14.00\" fill=\"#000000\">gini = 0.0</text>\n<text text-anchor=\"middle\" x=\"229.5\" y=\"-37.8\" font-family=\"Times,serif\" font-size=\"14.00\" fill=\"#000000\">samples = 3</text>\n<text text-anchor=\"middle\" x=\"229.5\" y=\"-22.8\" font-family=\"Times,serif\" font-size=\"14.00\" fill=\"#000000\">value = [0, 0, 3]</text>\n<text text-anchor=\"middle\" x=\"229.5\" y=\"-7.8\" font-family=\"Times,serif\" font-size=\"14.00\" fill=\"#000000\">class = virginica</text>\n</g>\n<!-- 5&#45;&gt;7 -->\n<g id=\"edge7\" class=\"edge\">\n<title>5&#45;&gt;7</title>\n<path fill=\"none\" stroke=\"#000000\" d=\"M221.9684,-103.9815C222.8685,-95.618 223.8179,-86.7965 224.7279,-78.3409\"/>\n<polygon fill=\"#000000\" stroke=\"#000000\" points=\"228.2222,-78.5808 225.8124,-68.2637 221.2624,-77.8317 228.2222,-78.5808\"/>\n</g>\n<!-- 9 -->\n<g id=\"node10\" class=\"node\">\n<title>9</title>\n<polygon fill=\"#ab7bee\" stroke=\"#000000\" points=\"473,-187 318,-187 318,-104 473,-104 473,-187\"/>\n<text text-anchor=\"middle\" x=\"395.5\" y=\"-171.8\" font-family=\"Times,serif\" font-size=\"14.00\" fill=\"#000000\">sepal width (cm) &lt;= 3.1</text>\n<text text-anchor=\"middle\" x=\"395.5\" y=\"-156.8\" font-family=\"Times,serif\" font-size=\"14.00\" fill=\"#000000\">gini = 0.375</text>\n<text text-anchor=\"middle\" x=\"395.5\" y=\"-141.8\" font-family=\"Times,serif\" font-size=\"14.00\" fill=\"#000000\">samples = 4</text>\n<text text-anchor=\"middle\" x=\"395.5\" y=\"-126.8\" font-family=\"Times,serif\" font-size=\"14.00\" fill=\"#000000\">value = [0, 1, 3]</text>\n<text text-anchor=\"middle\" x=\"395.5\" y=\"-111.8\" font-family=\"Times,serif\" font-size=\"14.00\" fill=\"#000000\">class = virginica</text>\n</g>\n<!-- 8&#45;&gt;9 -->\n<g id=\"edge9\" class=\"edge\">\n<title>8&#45;&gt;9</title>\n<path fill=\"none\" stroke=\"#000000\" d=\"M395.5,-222.8796C395.5,-214.6838 395.5,-205.9891 395.5,-197.5013\"/>\n<polygon fill=\"#000000\" stroke=\"#000000\" points=\"399.0001,-197.298 395.5,-187.2981 392.0001,-197.2981 399.0001,-197.298\"/>\n</g>\n<!-- 12 -->\n<g id=\"node13\" class=\"node\">\n<title>12</title>\n<polygon fill=\"#8139e5\" stroke=\"#000000\" points=\"608,-179.5 491,-179.5 491,-111.5 608,-111.5 608,-179.5\"/>\n<text text-anchor=\"middle\" x=\"549.5\" y=\"-164.3\" font-family=\"Times,serif\" font-size=\"14.00\" fill=\"#000000\">gini = 0.0</text>\n<text text-anchor=\"middle\" x=\"549.5\" y=\"-149.3\" font-family=\"Times,serif\" font-size=\"14.00\" fill=\"#000000\">samples = 32</text>\n<text text-anchor=\"middle\" x=\"549.5\" y=\"-134.3\" font-family=\"Times,serif\" font-size=\"14.00\" fill=\"#000000\">value = [0, 0, 32]</text>\n<text text-anchor=\"middle\" x=\"549.5\" y=\"-119.3\" font-family=\"Times,serif\" font-size=\"14.00\" fill=\"#000000\">class = virginica</text>\n</g>\n<!-- 8&#45;&gt;12 -->\n<g id=\"edge12\" class=\"edge\">\n<title>8&#45;&gt;12</title>\n<path fill=\"none\" stroke=\"#000000\" d=\"M449.3617,-222.8796C464.7304,-211.0038 481.4547,-198.0804 496.7559,-186.2568\"/>\n<polygon fill=\"#000000\" stroke=\"#000000\" points=\"499.3196,-188.699 505.0924,-179.8149 495.0395,-183.1599 499.3196,-188.699\"/>\n</g>\n<!-- 10 -->\n<g id=\"node11\" class=\"node\">\n<title>10</title>\n<polygon fill=\"#8139e5\" stroke=\"#000000\" points=\"437.5,-68 327.5,-68 327.5,0 437.5,0 437.5,-68\"/>\n<text text-anchor=\"middle\" x=\"382.5\" y=\"-52.8\" font-family=\"Times,serif\" font-size=\"14.00\" fill=\"#000000\">gini = 0.0</text>\n<text text-anchor=\"middle\" x=\"382.5\" y=\"-37.8\" font-family=\"Times,serif\" font-size=\"14.00\" fill=\"#000000\">samples = 3</text>\n<text text-anchor=\"middle\" x=\"382.5\" y=\"-22.8\" font-family=\"Times,serif\" font-size=\"14.00\" fill=\"#000000\">value = [0, 0, 3]</text>\n<text text-anchor=\"middle\" x=\"382.5\" y=\"-7.8\" font-family=\"Times,serif\" font-size=\"14.00\" fill=\"#000000\">class = virginica</text>\n</g>\n<!-- 9&#45;&gt;10 -->\n<g id=\"edge10\" class=\"edge\">\n<title>9&#45;&gt;10</title>\n<path fill=\"none\" stroke=\"#000000\" d=\"M390.6593,-103.9815C389.6842,-95.618 388.6557,-86.7965 387.6698,-78.3409\"/>\n<polygon fill=\"#000000\" stroke=\"#000000\" points=\"391.1295,-77.791 386.4949,-68.2637 384.1766,-78.6017 391.1295,-77.791\"/>\n</g>\n<!-- 11 -->\n<g id=\"node12\" class=\"node\">\n<title>11</title>\n<polygon fill=\"#39e581\" stroke=\"#000000\" points=\"571,-68 456,-68 456,0 571,0 571,-68\"/>\n<text text-anchor=\"middle\" x=\"513.5\" y=\"-52.8\" font-family=\"Times,serif\" font-size=\"14.00\" fill=\"#000000\">gini = 0.0</text>\n<text text-anchor=\"middle\" x=\"513.5\" y=\"-37.8\" font-family=\"Times,serif\" font-size=\"14.00\" fill=\"#000000\">samples = 1</text>\n<text text-anchor=\"middle\" x=\"513.5\" y=\"-22.8\" font-family=\"Times,serif\" font-size=\"14.00\" fill=\"#000000\">value = [0, 1, 0]</text>\n<text text-anchor=\"middle\" x=\"513.5\" y=\"-7.8\" font-family=\"Times,serif\" font-size=\"14.00\" fill=\"#000000\">class = versicolor</text>\n</g>\n<!-- 9&#45;&gt;11 -->\n<g id=\"edge11\" class=\"edge\">\n<title>9&#45;&gt;11</title>\n<path fill=\"none\" stroke=\"#000000\" d=\"M439.4388,-103.9815C449.3598,-94.607 459.8897,-84.6572 469.8008,-75.2921\"/>\n<polygon fill=\"#000000\" stroke=\"#000000\" points=\"472.3743,-77.6757 477.2389,-68.2637 467.5666,-72.5878 472.3743,-77.6757\"/>\n</g>\n</g>\n</svg>\n"
          },
          "metadata": {},
          "execution_count": 70
        }
      ]
    },
    {
      "cell_type": "markdown",
      "metadata": {
        "id": "rwnQpkHO4SM2"
      },
      "source": [
        "Thank you"
      ]
    }
  ]
}